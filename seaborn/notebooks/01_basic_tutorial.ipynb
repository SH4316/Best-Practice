{
 "cells": [
  {
   "cell_type": "markdown",
   "metadata": {},
   "source": [
    "# Seaborn 기본 튜토리얼\n",
    "\n",
    "이 노트북은 Seaborn의 기본 기능들을 실습하기 위한 튜토리얼입니다. 기본적인 플롯부터 다양한 시각화 기법을 다룹니다.\n",
    "\n",
    "## 목차\n",
    "1. Seaborn 소개 및 설정\n",
    "2. 기본 플롯 유형\n",
    "3. 범주형 데이터 시각화\n",
    "4. 분포 시각화\n",
    "5. 관계형 데이터 시각화"
   ]
  },
  {
   "cell_type": "markdown",
   "metadata": {},
   "source": [
    "## 1. Seaborn 소개 및 설정"
   ]
  },
  {
   "cell_type": "code",
   "execution_count": null,
   "metadata": {},
   "outputs": [],
   "source": [
    "# 필요한 라이브러리 임포트\n",
    "import seaborn as sns\n",
    "import matplotlib.pyplot as plt\n",
    "import pandas as pd\n",
    "import numpy as np\n",
    "\n",
    "# 한글 폰트 설정 (Windows)\n",
    "plt.rcParams['font.family'] = 'Malgun Gothic'\n",
    "plt.rcParams['axes.unicode_minus'] = False\n",
    "\n",
    "# Seaborn 테마 설정\n",
    "sns.set_theme(style=\"whitegrid\")\n",
    "sns.set_context(\"notebook\")\n",
    "\n",
    "print(\"Seaborn 버전:\", sns.__version__)\n",
    "print(\"Matplotlib 버전:\", plt.matplotlib.__version__)\n",
    "print(\"Pandas 버전:\", pd.__version__)"
   ]
  },
  {
   "cell_type": "markdown",
   "metadata": {},
   "source": [
    "## 2. 샘플 데이터 로드"
   ]
  },
  {
   "cell_type": "code",
   "execution_count": null,
   "metadata": {},
   "outputs": [],
   "source": [
    "# Seaborn 내장 데이터셋 로드\n",
    "tips = sns.load_dataset(\"tips\")\n",
    "iris = sns.load_dataset(\"iris\")\n",
    "titanic = sns.load_dataset(\"titanic\")\n",
    "\n",
    "# 데이터 확인\n",
    "print(\"Tips 데이터셋 정보:\")\n",
    "print(tips.head())\n",
    "print(\"\\n데이터 크기:\", tips.shape)\n",
    "print(\"\\n데이터 타입:\")\n",
    "print(tips.dtypes)"
   ]
  },
  {
   "cell_type": "markdown",
   "metadata": {},
   "source": [
    "## 3. 기본 플롯 유형"
   ]
  },
  {
   "cell_type": "markdown",
   "metadata": {},
   "source": [
    "### 3.1 산점도 (Scatter Plot)"
   ]
  },
  {
   "cell_type": "code",
   "execution_count": null,
   "metadata": {},
   "outputs": [],
   "source": [
    "# 기본 산점도\n",
    "plt.figure(figsize=(10, 6))\n",
    "sns.scatterplot(data=tips, x=\"total_bill\", y=\"tip\")\n",
    "plt.title(\"총 청구액과 팁의 관계\")\n",
    "plt.xlabel(\"총 청구액 ($)\")\n",
    "plt.ylabel(\"팁 ($)\")\n",
    "plt.show()"
   ]
  },
  {
   "cell_type": "code",
   "execution_count": null,
   "metadata": {},
   "outputs": [],
   "source": [
    "# 범주별 색상 구분\n",
    "plt.figure(figsize=(10, 6))\n",
    "sns.scatterplot(data=tips, x=\"total_bill\", y=\"tip\", hue=\"day\")\n",
    "plt.title(\"요일별 총 청구액과 팁의 관계\")\n",
    "plt.show()"
   ]
  },
  {
   "cell_type": "code",
   "execution_count": null,
   "metadata": {},
   "outputs": [],
   "source": [
    "# 다차원 산점도\n",
    "plt.figure(figsize=(12, 7))\n",
    "sns.scatterplot(\n",
    "    data=tips, \n",
    "    x=\"total_bill\", \n",
    "    y=\"tip\", \n",
    "    hue=\"day\",           # 색상으로 요일 구분\n",
    "    size=\"party_size\",   # 크기로 파티 크기 구분\n",
    "    style=\"time\",        # 스타일로 시간 구분\n",
    "    sizes=(20, 200),      # 크기 범위 설정\n",
    "    alpha=0.7             # 투명도 설정\n",
    ")\n",
    "plt.title(\"다차원 산점도\")\n",
    "plt.legend(bbox_to_anchor=(1.05, 1), loc='upper left')\n",
    "plt.tight_layout()\n",
    "plt.show()"
   ]
  },
  {
   "cell_type": "markdown",
   "metadata": {},
   "source": [
    "### 3.2 선 그래프 (Line Plot)"
   ]
  },
  {
   "cell_type": "code",
   "execution_count": null,
   "metadata": {},
   "outputs": [],
   "source": [
    "# 시계열 데이터 생성\n",
    "dates = pd.date_range('2023-01-01', periods=100)\n",
    "values = np.cumsum(np.random.randn(100)) + 100\n",
    "\n",
    "time_series_df = pd.DataFrame({\n",
    "    'date': dates,\n",
    "    'value': values,\n",
    "    'category': np.random.choice(['A', 'B', 'C'], 100)\n",
    "})\n",
    "\n",
    "# 기본 선 그래프\n",
    "plt.figure(figsize=(12, 6))\n",
    "sns.lineplot(data=time_series_df, x='date', y='value')\n",
    "plt.title(\"시간에 따른 값의 변화\")\n",
    "plt.xticks(rotation=45)\n",
    "plt.tight_layout()\n",
    "plt.show()"
   ]
  },
  {
   "cell_type": "code",
   "execution_count": null,
   "metadata": {},
   "outputs": [],
   "source": [
    "# 카테고리별 선 그래프\n",
    "plt.figure(figsize=(12, 6))\n",
    "sns.lineplot(\n",
    "    data=time_series_df, \n",
    "    x='date', \n",
    "    y='value', \n",
    "    hue='category',\n",
    "    ci='sd',              # 표준편차 신뢰 구간\n",
    "    style='category',     # 선 스타일 구분\n",
    "    markers=True,         # 마커 표시\n",
    "    dashes=False          # 실선으로 표시\n",
    ")\n",
    "plt.title(\"카테고리별 시계열 추세\")\n",
    "plt.xticks(rotation=45)\n",
    "plt.tight_layout()\n",
    "plt.show()"
   ]
  },
  {
   "cell_type": "markdown",
   "metadata": {},
   "source": [
    "## 4. 범주형 데이터 시각화"
   ]
  },
  {
   "cell_type": "markdown",
   "metadata": {},
   "source": [
    "### 4.1 박스 플롯 (Box Plot)"
   ]
  },
  {
   "cell_type": "code",
   "execution_count": null,
   "metadata": {},
   "outputs": [],
   "source": [
    "# 기본 박스 플롯\n",
    "plt.figure(figsize=(10, 6))\n",
    "sns.boxplot(data=tips, x=\"day\", y=\"total_bill\")\n",
    "plt.title(\"요일별 총 청구액 분포\")\n",
    "plt.show()"
   ]
  },
  {
   "cell_type": "code",
   "execution_count": null,
   "metadata": {},
   "outputs": [],
   "source": [
    "# 범주별 박스 플롯\n",
    "plt.figure(figsize=(12, 7))\n",
    "sns.boxplot(\n",
    "    data=tips,\n",
    "    x=\"day\",\n",
    "    y=\"total_bill\",\n",
    "    hue=\"smoker\",\n",
    "    palette=\"Set2\",\n",
    "    width=0.8\n",
    ")\n",
    "plt.title(\"요일 및 흡연 여부별 총 청구액 분포\")\n",
    "plt.legend(title=\"흡연 여부\")\n",
    "plt.show()"
   ]
  },
  {
   "cell_type": "markdown",
   "metadata": {},
   "source": [
    "### 4.2 바이올린 플롯 (Violin Plot)"
   ]
  },
  {
   "cell_type": "code",
   "execution_count": null,
   "metadata": {},
   "outputs": [],
   "source": [
    "# 기본 바이올린 플롯\n",
    "plt.figure(figsize=(10, 6))\n",
    "sns.violinplot(data=tips, x=\"day\", y=\"total_bill\")\n",
    "plt.title(\"요일별 총 청구액 분포\")\n",
    "plt.show()"
   ]
  },
  {
   "cell_type": "code",
   "execution_count": null,
   "metadata": {},
   "outputs": [],
   "source": [
    "# 분할 바이올린 플롯\n",
    "plt.figure(figsize=(12, 7))\n",
    "sns.violinplot(\n",
    "    data=tips,\n",
    "    x=\"day\",\n",
    "    y=\"total_bill\",\n",
    "    hue=\"smoker\",\n",
    "    split=True,        # 양쪽으로 분할\n",
    "    inner=\"quartile\",  # 내부에 사분위수 표시\n",
    "    palette=\"muted\"\n",
    ")\n",
    "plt.title(\"요일 및 흡연 여부별 총 청구액 분포\")\n",
    "plt.legend(title=\"흡연 여부\")\n",
    "plt.show()"
   ]
  },
  {
   "cell_type": "markdown",
   "metadata": {},
   "source": [
    "### 4.3 막대 그래프 (Bar Plot)"
   ]
  },
  {
   "cell_type": "code",
   "execution_count": null,
   "metadata": {},
   "outputs": [],
   "source": [
    "# 기본 막대 그래프\n",
    "plt.figure(figsize=(10, 6))\n",
    "sns.barplot(data=tips, x=\"day\", y=\"total_bill\")\n",
    "plt.title(\"요일별 평균 청구액\")\n",
    "plt.show()"
   ]
  },
  {
   "cell_type": "code",
   "execution_count": null,
   "metadata": {},
   "outputs": [],
   "source": [
    "# 신뢰 구간이 포함된 막대 그래프\n",
    "plt.figure(figsize=(12, 7))\n",
    "sns.barplot(\n",
    "    data=tips,\n",
    "    x=\"day\",\n",
    "    y=\"total_bill\",\n",
    "    hue=\"time\",\n",
    "    ci=95,           # 95% 신뢰 구간\n",
    "    palette=\"deep\",\n",
    "    capsize=0.1      # 신뢰 구간 막대 크기\n",
    ")\n",
    "plt.title(\"요일 및 시간별 평균 청구액\")\n",
    "plt.legend(title=\"시간\")\n",
    "plt.show()"
   ]
  },
  {
   "cell_type": "markdown",
   "metadata": {},
   "source": [
    "### 4.4 카운트 플롯 (Count Plot)"
   ]
  },
  {
   "cell_type": "code",
   "execution_count": null,
   "metadata": {},
   "outputs": [],
   "source": [
    "# 기본 카운트 플롯\n",
    "plt.figure(figsize=(10, 6))\n",
    "sns.countplot(data=tips, x=\"day\")\n",
    "plt.title(\"요일별 방문자 수\")\n",
    "plt.show()"
   ]
  },
  {
   "cell_type": "code",
   "execution_count": null,
   "metadata": {},
   "outputs": [],
   "source": [
    "# 수평 카운트 플롯\n",
    "plt.figure(figsize=(10, 7))\n",
    "sns.countplot(data=tips, y=\"day\", hue=\"time\")\n",
    "plt.title(\"요일 및 시간별 방문자 수\")\n",
    "plt.legend(title=\"시간\")\n",
    "plt.show()"
   ]
  },
  {
   "cell_type": "markdown",
   "metadata": {},
   "source": [
    "## 5. 분포 시각화"
   ]
  },
  {
   "cell_type": "markdown",
   "metadata": {},
   "source": [
    "### 5.1 히스토그램 (Histogram)"
   ]
  },
  {
   "cell_type": "code",
   "execution_count": null,
   "metadata": {},
   "outputs": [],
   "source": [
    "# 기본 히스토그램\n",
    "plt.figure(figsize=(10, 6))\n",
    "sns.histplot(data=tips, x=\"total_bill\", bins=20)\n",
    "plt.title(\"총 청구액 분포\")\n",
    "plt.xlabel(\"총 청구액 ($)\")\n",
    "plt.ylabel(\"빈도\")\n",
    "plt.show()"
   ]
  },
  {
   "cell_type": "code",
   "execution_count": null,
   "metadata": {},
   "outputs": [],
   "source": [
    "# 커널 밀도 추정이 포함된 히스토그램\n",
    "plt.figure(figsize=(10, 6))\n",
    "sns.histplot(\n",
    "    data=tips, \n",
    "    x=\"total_bill\", \n",
    "    bins=20,\n",
    "    kde=True,        # 커널 밀도 추정 곡선 추가\n",
    "    stat=\"density\"   # 밀도로 표시\n",
    ")\n",
    "plt.title(\"총 청구액 분포와 밀도\")\n",
    "plt.xlabel(\"총 청구액 ($)\")\n",
    "plt.show()"
   ]
  },
  {
   "cell_type": "markdown",
   "metadata": {},
   "source": [
    "### 5.2 커널 밀도 추정 (KDE Plot)"
   ]
  },
  {
   "cell_type": "code",
   "execution_count": null,
   "metadata": {},
   "outputs": [],
   "source": [
    "# 기본 밀도 플롯\n",
    "plt.figure(figsize=(10, 6))\n",
    "sns.kdeplot(data=tips, x=\"total_bill\")\n",
    "plt.title(\"총 청구액 밀도\")\n",
    "plt.xlabel(\"총 청구액 ($)\")\n",
    "plt.show()"
   ]
  },
  {
   "cell_type": "code",
   "execution_count": null,
   "metadata": {},
   "outputs": [],
   "source": [
    "# 2D 밀도 플롯\n",
    "plt.figure(figsize=(10, 8))\n",
    "sns.kdeplot(data=tips, x=\"total_bill\", y=\"tip\", shade=True, cmap=\"Blues\")\n",
    "plt.title(\"총 청구액과 팁의 2D 밀도\")\n",
    "plt.xlabel(\"총 청구액 ($)\")\n",
    "plt.ylabel(\"팁 ($)\")\n",
    "plt.show()"
   ]
  },
  {
   "cell_type": "markdown",
   "metadata": {},
   "source": [
    "## 6. 실습: 직접 해보기"
   ]
  },
  {
   "cell_type": "markdown",
   "metadata": {},
   "source": [
    "### 실습 1: Iris 데이터셋으로 다양한 플롯 그리기"
   ]
  },
  {
   "cell_type": "code",
   "execution_count": null,
   "metadata": {},
   "outputs": [],
   "source": [
    "# Iris 데이터셋 확인\n",
    "print(\"Iris 데이터셋 정보:\")\n",
    "print(iris.head())\n",
    "print(\"\\n품종별 개수:\")\n",
    "print(iris['species'].value_counts())"
   ]
  },
  {
   "cell_type": "code",
   "execution_count": null,
   "metadata": {},
   "outputs": [],
   "source": [
    "# 여기에 코드를 작성하여 Iris 데이터셋으로 다양한 플롯을 그려보세요\n",
    "# 1. 품종별 꽃받침 길이 분포 (박스 플롯)\n",
    "# 2. 품종별 꽃잎 너비와 꽃잎 길이 관계 (산점도)\n",
    "# 3. 꽃받침 길이 분포 (히스토그램)\n",
    "# 4. 품종별 꽃잎 길이 분포 (바이올린 플롯)\n",
    "\n",
    "# 예시:\n",
    "plt.figure(figsize=(10, 6))\n",
    "sns.boxplot(data=iris, x='species', y='sepal_length')\n",
    "plt.title('품종별 꽃받침 길이 분포')\n",
    "plt.show()"
   ]
  },
  {
   "cell_type": "markdown",
   "metadata": {},
   "source": [
    "### 실습 2: Titanic 데이터셋 탐색"
   ]
  },
  {
   "cell_type": "code",
   "execution_count": null,
   "metadata": {},
   "outputs": [],
   "source": [
    "# Titanic 데이터셋 확인\n",
    "print(\"Titanic 데이터셋 정보:\")\n",
    "print(titanic.head())\n",
    "print(\"\\n결측치:\")\n",
    "print(titanic.isnull().sum())"
   ]
  },
  {
   "cell_type": "code",
   "execution_count": null,
   "metadata": {},
   "outputs": [],
   "source": [
    "# 여기에 코드를 작성하여 Titanic 데이터셋을 탐색해보세요\n",
    "# 1. 생존 여부별 승객 수 (카운트 플롯)\n",
    "# 2. 성별별 생존율 (막대 그래프)\n",
    "# 3. 객실 등급별 나이 분포 (바이올린 플롯)\n",
    "# 4. 성별과 객실 등급별 요금 분포 (박스 플롯)\n",
    "\n",
    "# 힌트: 결측치가 있는 경우 처리해야 합니다\n",
    "# 예시:\n",
    "plt.figure(figsize=(10, 6))\n",
    "sns.countplot(data=titanic, x='survived')\n",
    "plt.title('생존 여부별 승객 수')\n",
    "plt.show()"
   ]
  },
  {
   "cell_type": "markdown",
   "metadata": {},
   "source": [
    "## 7. 요약\n",
    "\n",
    "이 튜토리얼에서는 Seaborn의 기본 플롯 유형들을 학습했습니다:\n",
    "\n",
    "1. **산점도**: 두 연속형 변수 간의 관계 시각화\n",
    "2. **선 그래프**: 시계열 데이터나 추세 시각화\n",
    "3. **박스 플롯**: 범주별 데이터 분포와 통계적 요약\n",
    "4. **바이올린 플롯**: 박스 플롯과 밀도 추정의 결합\n",
    "5. **막대 그래프**: 범주별 통계적 요약\n",
    "6. **카운트 플롯**: 범주별 관측치 수\n",
    "7. **히스토그램**: 데이터의 분포\n",
    "8. **커널 밀도 추정**: 확률 밀도 함수 시각화\n",
    "\n",
    "이 기본 플롯들을 조합하면 대부분의 데이터 시각화 요구사항을 충족할 수 있습니다. 다음 튜토리얼에서는 더 고급 시각화 기법들을 다룹니다."
   ]
  }
 ],
 "metadata": {
  "kernelspec": {
   "display_name": "Python 3",
   "language": "python",
   "name": "python3"
  },
  "language_info": {
   "codemirror_mode": {
    "name": "ipython",
    "version": 3
   },
   "file_extension": ".py",
   "mimetype": "text/x-python",
   "name": "python",
   "nbconvert_exporter": "python",
   "pygments_lexer": "ipython3",
   "version": "3.8.5"
  }
 },
 "nbformat": 4,
 "nbformat_minor": 4
}